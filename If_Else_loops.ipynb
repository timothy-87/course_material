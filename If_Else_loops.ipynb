{
  "cells": [
    {
      "cell_type": "markdown",
      "metadata": {
        "id": "view-in-github",
        "colab_type": "text"
      },
      "source": [
        "<a href=\"https://colab.research.google.com/github/timothy-87/course_material/blob/main/If_Else_loops.ipynb\" target=\"_parent\"><img src=\"https://colab.research.google.com/assets/colab-badge.svg\" alt=\"Open In Colab\"/></a>"
      ]
    },
    {
      "cell_type": "code",
      "execution_count": null,
      "metadata": {
        "id": "J6HR2_4lkfwW"
      },
      "outputs": [],
      "source": [
        "import pandas as pd\n",
        "import numpy as np\n",
        "\n"
      ]
    },
    {
      "cell_type": "code",
      "source": [
        "#### Bonus code\n",
        "\n",
        "list_1 = [87,54,16,9,45,50,11,67,75, -76]\n",
        "\n",
        "# over 75(A), over 50(B), Over 25 (c), under 15 (D)\n",
        "grades = []\n",
        "\n",
        "# i represents each item in the list, i[0] = 87, i[2]= 54\n",
        "for i in list_1:\n",
        "    if i > 75:\n",
        "        grades.append('A')\n",
        "    elif i > 50 and i != 75:\n",
        "        grades.append('B')\n",
        "    elif i > 25:\n",
        "        grades.append('C')\n",
        "    else:\n",
        "        grades.append('D')\n",
        "\n",
        "print(grades)"
      ],
      "metadata": {
        "id": "BSPMixue4LUJ"
      },
      "execution_count": null,
      "outputs": []
    },
    {
      "cell_type": "markdown",
      "metadata": {
        "id": "gZlPLVPcKQM_"
      },
      "source": [
        "# If/Else, Loops\n"
      ]
    },
    {
      "cell_type": "markdown",
      "metadata": {
        "id": "twqdTMZUToTe"
      },
      "source": [
        "## If"
      ]
    },
    {
      "cell_type": "markdown",
      "metadata": {
        "id": "ufdBaCPPNOpZ"
      },
      "source": [
        "**Branching** is a fundamental part of computer programming. It basically means making a decision to take one path or another. Through the **if** statement, your programs can branch to a section of code or just skip it, all based on function itself"
      ]
    },
    {
      "cell_type": "code",
      "execution_count": null,
      "metadata": {
        "id": "HCuGOoEIN0KS",
        "colab": {
          "base_uri": "https://localhost:8080/"
        },
        "outputId": "cbfb4d9e-a49a-42c1-b19b-c65ec10af184"
      },
      "outputs": [
        {
          "output_type": "stream",
          "name": "stdout",
          "text": [
            "Eight is not greater than 6\n"
          ]
        }
      ],
      "source": [
        "# If is a conditional statement that executes some specified code after checking\n",
        "# if its expression is True\n",
        "\n",
        "if 8 < 6:\n",
        "  print('Eight is greater than six')\n",
        "else:\n",
        "  print('Eight is not greater than 6')"
      ]
    },
    {
      "cell_type": "markdown",
      "source": [
        "*Below example given by Noah during stand up*"
      ],
      "metadata": {
        "id": "Nu6HhyAL4Ft6"
      }
    },
    {
      "cell_type": "code",
      "source": [
        "ages = {'Ben': 17,\n",
        "        'Beryl':28,\n",
        "        'Paul':45,\n",
        "        'Cynthia':75,\n",
        "        'Max':6\n",
        "        }\n",
        "\n",
        "for name, age in ages.items():\n",
        "  print(f\"\\n Decision for {name} age:{age} yrs \\n\",'*'*15)\n",
        "  if age >= 18:\n",
        "    print(f'You\"re {age} y.o. Allowed to vote')\n",
        "  # creating nested if statement\n",
        "    if age >=35:\n",
        "      print('you can vie for presidency')\n",
        "    else:\n",
        "      print(f\"you still have {35-age} years to vote\")\n",
        "  else:\n",
        "    print(f\"you still have {18-age} years to vote\")\n",
        "    if age >15:"
      ],
      "metadata": {
        "id": "RSSuNILAlpgx"
      },
      "execution_count": null,
      "outputs": []
    },
    {
      "cell_type": "code",
      "execution_count": null,
      "metadata": {
        "colab": {
          "base_uri": "https://localhost:8080/"
        },
        "id": "gIH_7uJ0OZpU",
        "outputId": "d47a6336-3703-4c9b-8ef8-5d74fc935f5f"
      },
      "outputs": [
        {
          "name": "stdout",
          "output_type": "stream",
          "text": [
            "It is closer to Mashujaa day\n"
          ]
        }
      ],
      "source": [
        "today = 'October 5'\n",
        "\n",
        "if today == 'October 5':\n",
        "  print('It is closer to Mashujaa day')\n",
        "\n",
        "# What happens when you change date to Oct 6?"
      ]
    },
    {
      "cell_type": "code",
      "execution_count": null,
      "metadata": {
        "colab": {
          "base_uri": "https://localhost:8080/"
        },
        "id": "qDXiYsCDONIJ",
        "outputId": "bec244bc-191e-419e-935f-c871719e45f1"
      },
      "outputs": [
        {
          "name": "stdout",
          "output_type": "stream",
          "text": [
            "y is less than x\n"
          ]
        }
      ],
      "source": [
        "# We can write an if statement by using the if keyword as shown:\n",
        "#\n",
        "x = 200\n",
        "y = 300\n",
        "if y > x:\n",
        "  print(\"y is greater than x\")"
      ]
    },
    {
      "cell_type": "code",
      "execution_count": null,
      "metadata": {
        "id": "aAgnjBqYPUv5"
      },
      "outputs": [],
      "source": []
    },
    {
      "cell_type": "markdown",
      "metadata": {
        "id": "foEiiqclQfyz"
      },
      "source": [
        "## Else\n",
        "The else statement complements the **if** statement: 'If this expression is true, run this indented block of code; otherwise run this code after the else statement'\n",
        "\n",
        "Unlike if, else doesn't depend on an expression"
      ]
    },
    {
      "cell_type": "code",
      "execution_count": null,
      "metadata": {
        "colab": {
          "base_uri": "https://localhost:8080/"
        },
        "id": "7TST-4qhQ2r0",
        "outputId": "d5f7a467-4484-4be4-c3e5-baa4718087a2"
      },
      "outputs": [
        {
          "name": "stdout",
          "output_type": "stream",
          "text": [
            "Eight is greater than nine\n"
          ]
        }
      ],
      "source": [
        "# Example\n",
        "\n",
        "if 8 > 9:\n",
        "  print(\"Eight is greater than nine\")\n",
        "else:\n",
        "  print('Eight is less than nine')"
      ]
    },
    {
      "cell_type": "code",
      "execution_count": null,
      "metadata": {
        "colab": {
          "base_uri": "https://localhost:8080/"
        },
        "id": "h0dQlOBTOblK",
        "outputId": "2dee05ad-f6b6-4035-de4e-fdf64881f59e"
      },
      "outputs": [
        {
          "name": "stdout",
          "output_type": "stream",
          "text": [
            "multiple of 5\n"
          ]
        }
      ],
      "source": [
        "# Example\n",
        "# Let's now write a program that reads an integer from a user then displays a message indicating\n",
        "# whether the integer is even or odd.\n",
        "#\n",
        "b=21\n",
        "c=b%2\n",
        "if c>0:\n",
        "  print ('odd')\n",
        "else :\n",
        "  print('even')"
      ]
    },
    {
      "cell_type": "code",
      "execution_count": null,
      "metadata": {
        "id": "y1fzZ3h5vlBY"
      },
      "outputs": [],
      "source": [
        "# Example\n",
        "# Let's now write a program that reads an integer from a user then displays a message indicating\n",
        "# whether the integer is a multiple of 5\n",
        "#\n",
        "b=25\n",
        "c=b%5\n",
        "if c==0:\n",
        "  print ('multiple of 5')\n",
        "else:\n",
        "  print('not multiple of 5')"
      ]
    },
    {
      "cell_type": "markdown",
      "metadata": {
        "id": "Izmr--43Omqm"
      },
      "source": [
        "##**Elif**\n",
        "\n",
        "**Elif** is short for **else/if**. It means exactly what it sounds like: \"Otherwise, if the following expression is true, do this!\""
      ]
    },
    {
      "cell_type": "code",
      "execution_count": null,
      "metadata": {
        "colab": {
          "base_uri": "https://localhost:8080/"
        },
        "id": "XvcURG4SPb-_",
        "outputId": "e7ce9ace-b8b4-4e23-96b1-dec23f8421bc"
      },
      "outputs": [
        {
          "name": "stdout",
          "output_type": "stream",
          "text": [
            "10 is equal to 91\n"
          ]
        }
      ],
      "source": [
        "# set our variables c and t\n",
        "x = 10\n",
        "t = 91\n",
        "if x > t:\n",
        "  print('10 is greater than 91')\n",
        "elif x<t:\n",
        "  print('10 is less than 91')\n",
        "else:\n",
        "  print('10 is equal to 91')\n"
      ]
    },
    {
      "cell_type": "code",
      "execution_count": null,
      "metadata": {
        "colab": {
          "base_uri": "https://localhost:8080/"
        },
        "id": "3gYf6fIrxsfc",
        "outputId": "aa5d3560-47d0-4e3e-ba09-5c00830d15e3"
      },
      "outputs": [
        {
          "name": "stdout",
          "output_type": "stream",
          "text": [
            "Number 1: 10\n",
            "number 2: 5\n",
            "15.0\n"
          ]
        }
      ],
      "source": [
        "x = int(input('Number 1: '))\n",
        "y = float(input('number 2: '))\n",
        "# x=10 y=5\n",
        "print(x+y)"
      ]
    },
    {
      "cell_type": "code",
      "execution_count": null,
      "metadata": {
        "colab": {
          "base_uri": "https://localhost:8080/"
        },
        "id": "8u0zo22-zPKh",
        "outputId": "01a26ae4-de70-4af8-d4e9-c176f42cd152"
      },
      "outputs": [
        {
          "data": {
            "text/plain": [
              "str"
            ]
          },
          "execution_count": 30,
          "metadata": {},
          "output_type": "execute_result"
        }
      ],
      "source": [
        "type(y)"
      ]
    },
    {
      "cell_type": "code",
      "execution_count": null,
      "metadata": {
        "colab": {
          "base_uri": "https://localhost:8080/"
        },
        "id": "E0sSG9ODQMWn",
        "outputId": "96d5868b-5f79-469a-c3c7-6e989a1a732c"
      },
      "outputs": [
        {
          "name": "stdout",
          "output_type": "stream",
          "text": [
            "Input x: 10\n",
            "Input y: 67\n",
            "10  is less than  67\n"
          ]
        }
      ],
      "source": [
        "# set our variables x and y\n",
        "x = int(input('Input x: '))\n",
        "y = int(input('Input y: '))\n",
        "if x > y:\n",
        "  print(x, ' is greater than ',y)\n",
        "elif x < y:\n",
        "  print(x, ' is less than ',y)\n",
        "else:\n",
        "  print(x, ' is equal to ',y)"
      ]
    },
    {
      "cell_type": "code",
      "execution_count": null,
      "metadata": {
        "colab": {
          "base_uri": "https://localhost:8080/"
        },
        "id": "J0-D9ByB7-da",
        "outputId": "75fb7d03-4e2e-4a44-a03d-c54e08ec9b3e"
      },
      "outputs": [
        {
          "name": "stdout",
          "output_type": "stream",
          "text": [
            "Input letter = r\n",
            "r  is a consonant\n"
          ]
        }
      ],
      "source": [
        "# We now write a program that reads a input from a user\n",
        "# in order to distiguish letters between consonants and vowels\n",
        "\n",
        "letter=input('Input letter = ')\n",
        "if letter is('a', 'e','i','o','u'):\n",
        "  print (letter,\"is a vowel.\" )\n",
        "elif letter == 'y':\n",
        "  print(\"Sometimes letter y stand for vowel, sometimes stand for consonant.\")\n",
        "else:\n",
        " print(letter,' is a consonant'  )\n",
        "#  print(\"%s is a consonant\" % letter)"
      ]
    },
    {
      "cell_type": "code",
      "execution_count": null,
      "metadata": {
        "colab": {
          "base_uri": "https://localhost:8080/"
        },
        "id": "NyTJV7zL92n7",
        "outputId": "660ff643-a774-436c-e4cd-c460dbc58737"
      },
      "outputs": [
        {
          "name": "stdout",
          "output_type": "stream",
          "text": [
            "At least one of the conditions is True\n"
          ]
        }
      ],
      "source": [
        "\n",
        "# Example\n",
        "# We can also use the if keyword to combine conditional statements.\n",
        "#\n",
        "\n",
        "# Declaring our variables\n",
        "x = 10\n",
        "y = 11\n",
        "z = 9\n",
        "\n",
        "if x > y or x > z:\n",
        "  print(\"At least one of the conditions is True\")"
      ]
    },
    {
      "cell_type": "code",
      "execution_count": null,
      "metadata": {
        "colab": {
          "base_uri": "https://localhost:8080/"
        },
        "id": "l1z0AwmZ9WNL",
        "outputId": "c2113491-3283-4bb0-de9a-01f2b4b35f12"
      },
      "outputs": [
        {
          "name": "stdout",
          "output_type": "stream",
          "text": [
            "odd\n"
          ]
        }
      ],
      "source": [
        "# Quiz\n",
        "# Let's now write a program that reads an integer\n",
        "# from a user then displays a message indicating\n",
        "# whether the integer is even or odd.\n",
        "#\n",
        "b = 21\n",
        "c=b%2\n",
        "if c>0:\n",
        "  print('odd')\n",
        "elif c==0:\n",
        "  print('even')"
      ]
    },
    {
      "cell_type": "code",
      "execution_count": null,
      "metadata": {
        "id": "aYg5WiyO89dc"
      },
      "outputs": [],
      "source": [
        "# Quiz 2\n",
        "# We now write a program that reads a input from a user.\n",
        "# If the user enters a, e, i, o or u then our program should\n",
        "# display a message indicating that the entered letter is a vowel.\n",
        "# If our user enters y then our program should display a message\n",
        "# indicating that sometimes y is a vowel, and sometimes y is a consonant.\n",
        "# Otherwise our program should display a message indicating that the\n",
        "# letter is a consonant."
      ]
    },
    {
      "cell_type": "code",
      "execution_count": null,
      "metadata": {
        "id": "F-WS33Hy9G1C"
      },
      "outputs": [],
      "source": [
        "# Let's now also write another program that asks for a number and computes the\n",
        "# square of that number. If the square is 100 or greater, print the squared value\n",
        "# and the word 'big'. Otherwise if the square is 50 or greater, print the\n",
        "# squared value and the word 'medium'. Otherwise just print 'too small to bother with'.\n",
        "# Hint: To compute squared, use x*x or x**2"
      ]
    },
    {
      "cell_type": "markdown",
      "metadata": {
        "id": "LRBwV6pT9S0F"
      },
      "source": [
        "### And\n",
        "We can combine conditional statements and logical operators\n"
      ]
    },
    {
      "cell_type": "code",
      "execution_count": null,
      "metadata": {
        "id": "RmBbEhI--Vzx",
        "colab": {
          "base_uri": "https://localhost:8080/"
        },
        "outputId": "47a24900-2004-404c-a59b-7efe9f76d2d4"
      },
      "outputs": [
        {
          "output_type": "stream",
          "name": "stdout",
          "text": [
            "Your name isnt Betty, and you are 24 years old.\n"
          ]
        }
      ],
      "source": [
        "# Examples\n",
        "\n",
        "# Declaring our variables\n",
        "name = \"Betwel\"\n",
        "age  = 24\n",
        "\n",
        "if name == \"Betty\" and age == 24:\n",
        "  print(\"Your name is Betty, and you are also 24 years old.\")\n",
        "if name == \"Betty\" and age != 24:\n",
        "  print(\"Your name is Betty, and you are not 24 years old.\")\n",
        "if name != \"Betty\" and age == 24:\n",
        "  print(\"Your name isnt Betty, and you are 24 years old.\")\n",
        "if name != \"Betty\" and age != 24:\n",
        "  print(\"Your name isnt Betty, and you are not 24 years old.\")\n",
        "# Print the message in the output by modifying the code above"
      ]
    },
    {
      "cell_type": "code",
      "execution_count": null,
      "metadata": {
        "colab": {
          "base_uri": "https://localhost:8080/"
        },
        "id": "FbH6r1S09uML",
        "outputId": "8e404cd6-f04b-433c-8767-938e89c53ae9"
      },
      "outputs": [
        {
          "output_type": "stream",
          "name": "stdout",
          "text": [
            "One condition is true\n"
          ]
        }
      ],
      "source": [
        "# Declaring our variables\n",
        "m = 11\n",
        "n = 18\n",
        "p = 19\n",
        "\n",
        "if m > n and p > n:\n",
        "  print(\"Both conditions are True\")\n",
        "elif m > n or p > n:\n",
        "  print('One condition is true')\n",
        "else:\n",
        "  print('Both conditions are False')"
      ]
    },
    {
      "cell_type": "code",
      "execution_count": null,
      "metadata": {
        "colab": {
          "base_uri": "https://localhost:8080/"
        },
        "id": "n0FjHSUu-led",
        "outputId": "a4b4b9d9-cc2a-4ddd-8f60-1465a9549ced"
      },
      "outputs": [
        {
          "name": "stdout",
          "output_type": "stream",
          "text": [
            "I am not a student who lives in Kiambu\n"
          ]
        }
      ],
      "source": [
        "# Example\n",
        "#\n",
        "\n",
        "# Declaring our variables\n",
        "county = \"Kiambu\"      # Let's store our county in the county variable\n",
        "student = 'Yes'        # Let's store our age in the student variable\n",
        "\n",
        "if county == \"kiambu\" and student == 'Yes':\n",
        "  print(\"I am a student and I live in Kiambu\")\n",
        "else:\n",
        "  print(\"I am not a student who lives in Kiambu\")\n",
        "\n"
      ]
    },
    {
      "cell_type": "code",
      "execution_count": null,
      "metadata": {
        "colab": {
          "background_save": true
        },
        "id": "Aeo_X8Em22Ks",
        "outputId": "d1ce98d5-db1c-4bf3-ad36-81be86ad5e7a"
      },
      "outputs": [
        {
          "name": "stdout",
          "output_type": "stream",
          "text": [
            "True\n"
          ]
        }
      ],
      "source": [
        "x = 'boolean'\n",
        "print(x in x)"
      ]
    },
    {
      "cell_type": "code",
      "execution_count": null,
      "metadata": {
        "id": "P0vTOmb8_oUJ"
      },
      "outputs": [],
      "source": [
        "# Quiz:\n",
        "# Given the 3 sides of a triangle x, y and z, let's find out\n",
        "# whether the triangle is equilateral, isosceles or obtuse.\n",
        "# Note: An equilateral triagnle has all sides are equal,\n",
        "# isosceles means that two of the sides are equal but not the third one,\n",
        "# obtuse means all 3 are different. The user will be prompted\n",
        "# to provide the values of x, y and z"
      ]
    },
    {
      "cell_type": "markdown",
      "metadata": {
        "id": "TLlw_K-E_sg_"
      },
      "source": [
        "###Or"
      ]
    },
    {
      "cell_type": "code",
      "execution_count": null,
      "metadata": {
        "colab": {
          "base_uri": "https://localhost:8080/"
        },
        "id": "kDgU-ug-__ik",
        "outputId": "44c5c2df-c6b8-49e6-ed05-48d3c3e0f927"
      },
      "outputs": [
        {
          "name": "stdout",
          "output_type": "stream",
          "text": [
            "If statement is True\n"
          ]
        }
      ],
      "source": [
        "# Declaring our variables\n",
        "w = 10\n",
        "x = 15\n",
        "y = 20\n",
        "z = 25\n",
        "\n",
        "if (w == 10 or x == 15) and (y == 16 or z == 25):\n",
        "  print(\"If statement is True\")\n",
        "else:\n",
        "  print(\"False\")"
      ]
    },
    {
      "cell_type": "code",
      "source": [
        "x = input()\n",
        "print(x)"
      ],
      "metadata": {
        "colab": {
          "base_uri": "https://localhost:8080/"
        },
        "id": "IfJVc6nW0Fe_",
        "outputId": "a8fabe82-d9af-42bd-c32d-b4e0112ac529"
      },
      "execution_count": null,
      "outputs": [
        {
          "output_type": "stream",
          "name": "stdout",
          "text": [
            "this is input\n",
            "this is input\n"
          ]
        }
      ]
    },
    {
      "cell_type": "code",
      "execution_count": null,
      "metadata": {
        "colab": {
          "base_uri": "https://localhost:8080/"
        },
        "id": "rou__1CR_46H",
        "outputId": "b3870f97-f25b-4a6c-ce0f-aa8c94f99413"
      },
      "outputs": [
        {
          "name": "stdout",
          "output_type": "stream",
          "text": [
            "Enter value of x = 5\n",
            "Enter value of y = 23\n",
            "x >= 15 or y <= 25 so if statement is True\n"
          ]
        }
      ],
      "source": [
        "# Declaring our variables\n",
        "x = int(input(\"Enter value of x = \"))\n",
        "y = int(input(\"Enter value of y = \"))\n",
        "\n",
        "if (x >= 15) or (y <= 25):\n",
        "  print(\"x >= 15 or y <= 25 so if statement is True\")\n",
        "else:\n",
        "  print(\"Value of x < 15 and y > 25 so if statement is False!\")"
      ]
    },
    {
      "cell_type": "code",
      "execution_count": null,
      "metadata": {
        "id": "WNp83HY2AIL9"
      },
      "outputs": [],
      "source": [
        "# Quiz\n",
        "# Using the Or operator, let's create a function\n",
        "# that checks whether a number given\n",
        "# by a user is greater than 30 or greater than 100.\n"
      ]
    },
    {
      "cell_type": "markdown",
      "metadata": {
        "id": "gmXBkxYR-Cei"
      },
      "source": [
        "## Nested If\n",
        "A nested if is an if statement that is the target of another if statement. Nested if statements mean an if statement inside another if statement. Yes, Python allows us to nest if statements within if statements. i.e, we can place an if statement inside another if statement."
      ]
    },
    {
      "cell_type": "code",
      "execution_count": null,
      "metadata": {
        "colab": {
          "base_uri": "https://localhost:8080/"
        },
        "id": "8kWn8QbsKAE2",
        "outputId": "fc411a4e-9fc3-4c86-c7b3-f6ea1eb12bbd"
      },
      "outputs": [
        {
          "name": "stdout",
          "output_type": "stream",
          "text": [
            "i is smaller than 15\n",
            "i is smaller than 12 too\n"
          ]
        }
      ],
      "source": [
        "i = 10\n",
        "if (i == 10):\n",
        "\n",
        "    #  First if statement\n",
        "    if (i < 15):\n",
        "        print(\"i is smaller than 15\")\n",
        "\n",
        "    # Nested - if statement\n",
        "    # Will only be executed if statement above\n",
        "    # it is true\n",
        "    if (i < 12):\n",
        "        print(\"i is smaller than 12 too\")\n",
        "    else:\n",
        "        print(\"i is greater than 15\")"
      ]
    },
    {
      "cell_type": "code",
      "source": [
        "list1 = ['maize','wheat','oat']\n",
        "\n",
        "\n",
        "for i in list1:\n",
        "  print(i)"
      ],
      "metadata": {
        "colab": {
          "base_uri": "https://localhost:8080/"
        },
        "id": "dn5MKxfQ3j73",
        "outputId": "4ad1c021-7474-43af-9d9c-f8f17f260be0"
      },
      "execution_count": null,
      "outputs": [
        {
          "output_type": "stream",
          "name": "stdout",
          "text": [
            "maize\n",
            "wheat\n",
            "oat\n"
          ]
        }
      ]
    },
    {
      "cell_type": "code",
      "source": [
        "# Create custom nested if statements\n",
        "\n",
        "produce = [{'legumes':['beans','peas','njahi']}, {'grains':['wheat','oat','maize']}]\n",
        "\n",
        "for key, value in produce[1].items():\n",
        "  if key == 'grains':\n",
        "    for i in value:\n",
        "      if  i == 'maize':\n",
        "\n",
        "        continue\n",
        "        print('We have found maize =',i)\n",
        "      else:\n",
        "        continue\n",
        "        print('Wrong Answer', i)\n",
        "\n",
        "\n"
      ],
      "metadata": {
        "id": "B-t1kCu01-KC"
      },
      "execution_count": null,
      "outputs": []
    },
    {
      "cell_type": "code",
      "source": [
        "if\n",
        "a"
      ],
      "metadata": {
        "colab": {
          "base_uri": "https://localhost:8080/"
        },
        "id": "PcupP81D-lTj",
        "outputId": "9f0f13bf-6bfd-4394-e725-e7790ccdc205"
      },
      "execution_count": null,
      "outputs": [
        {
          "output_type": "execute_result",
          "data": {
            "text/plain": [
              "[]"
            ]
          },
          "metadata": {},
          "execution_count": 46
        }
      ]
    },
    {
      "cell_type": "code",
      "execution_count": null,
      "metadata": {
        "colab": {
          "base_uri": "https://localhost:8080/"
        },
        "id": "DmeYYct5KAIf",
        "outputId": "38b796c5-8e41-41e3-9edc-a75ff6e715ee"
      },
      "outputs": [
        {
          "name": "stdout",
          "output_type": "stream",
          "text": [
            "Enter Number: 5\n",
            "Play kabadi\n"
          ]
        }
      ],
      "source": [
        "n = int(input('Enter Number: '))\n",
        "\n",
        "if n <= 15:\n",
        "  if n == 10:\n",
        "    print('Play cricket')\n",
        "  else:\n",
        "    print('Play kabadi')\n",
        "else:\n",
        "  prin('Dont play game')"
      ]
    },
    {
      "cell_type": "code",
      "execution_count": null,
      "metadata": {
        "id": "mKPKwcL9KAMI"
      },
      "outputs": [],
      "source": [
        "c = 21\n",
        "if c < 25:\n",
        "  if c%2 == 0:\n",
        "    print('c is an even number less than 25')\n",
        "  else:\n",
        "    print('c is an odd number less than 25')\n",
        "else:\n",
        "  print('c is greater than 25')"
      ]
    },
    {
      "cell_type": "code",
      "source": [
        "list_a = [-1,92,90,0.28,-26,-19,-278,17,38,100,-12,-98,288]\n",
        "\n",
        "# check for each item in list_a\n",
        "for i in list_a:\n",
        "\n",
        "  # Check for postive numbers\n",
        "  if i >= 0:\n",
        "    # Assign grade\n",
        "    if i > 50:\n",
        "      print(i, 'is good')\n",
        "\n",
        "    else:\n",
        "      print(i, ' is fair')\n",
        "\n",
        "  else:\n",
        "\n",
        "    if i > -49:\n",
        "      print(i, 'is poor')\n",
        "\n",
        "    else:\n",
        "      print(i, 'is bad')\n",
        "\n",
        "  while i % 2 == 0:\n",
        "    print(i, 'is even')\n",
        "    break\n",
        "  else:\n",
        "    print(i , 'is odd')\n"
      ],
      "metadata": {
        "colab": {
          "base_uri": "https://localhost:8080/"
        },
        "id": "FwVgZ-Nx6OsR",
        "outputId": "8da316d6-d5ad-460e-8359-eb11315c0050"
      },
      "execution_count": null,
      "outputs": [
        {
          "output_type": "stream",
          "name": "stdout",
          "text": [
            "-1 is poor\n",
            "-1 is odd\n",
            "92 is good\n",
            "92 is even\n",
            "90 is good\n",
            "90 is even\n",
            "0.28  is fair\n",
            "0.28 is odd\n",
            "-26 is poor\n",
            "-26 is even\n",
            "-19 is poor\n",
            "-19 is odd\n",
            "-278 is bad\n",
            "-278 is even\n",
            "17  is fair\n",
            "17 is odd\n",
            "38  is fair\n",
            "38 is even\n",
            "100 is good\n",
            "100 is even\n",
            "-12 is poor\n",
            "-12 is even\n",
            "-98 is bad\n",
            "-98 is even\n",
            "288 is good\n",
            "288 is even\n"
          ]
        }
      ]
    },
    {
      "cell_type": "code",
      "source": [
        "list_c = [10,20,-28,50,70,47]\n",
        "\n",
        "\n",
        "for i in list_c:\n",
        "  if i >= 60:\n",
        "    print(i,' = A')\n",
        "\n",
        "  elif i > 30 :\n",
        "    print(i, '= B')\n",
        "  elif i < 0:\n",
        "    print('ERROR')\n",
        "  else:\n",
        "    print(i, '= C')\n"
      ],
      "metadata": {
        "colab": {
          "base_uri": "https://localhost:8080/"
        },
        "id": "E8WrT64e8hl9",
        "outputId": "91b0e27d-6459-4179-dc26-b82bf57801b3"
      },
      "execution_count": null,
      "outputs": [
        {
          "output_type": "stream",
          "name": "stdout",
          "text": [
            "10 = C\n",
            "20 = C\n",
            "ERROR\n",
            "50 = B\n",
            "70  = A\n",
            "47 = B\n"
          ]
        }
      ]
    },
    {
      "cell_type": "markdown",
      "metadata": {
        "id": "cZ2_Y4WvGc7j"
      },
      "source": [
        "## For      \n",
        "A for loop is used for iterating over a sequence (that is either a list, a tuple, a dictionary, a set, or a string).\n",
        "\n"
      ]
    },
    {
      "cell_type": "code",
      "execution_count": null,
      "metadata": {
        "colab": {
          "base_uri": "https://localhost:8080/"
        },
        "id": "RYizg73_GfqS",
        "outputId": "58437789-18d9-48e3-c43e-2c8eb89fdb62"
      },
      "outputs": [
        {
          "name": "stdout",
          "output_type": "stream",
          "text": [
            "Name\n",
            "Students\n",
            "Teacher\n",
            "-----------------------------------\n",
            "Name : Form 4 west\n",
            "Students : 46\n",
            "Teacher : Mr. Kitam\n"
          ]
        }
      ],
      "source": [
        "# Let's now create a dictionary and iterate over it\n",
        "# Looping through a dictionary is slightly different from looping through a list. This is because a dictionary is comprised of key-value pairs.\n",
        "# There are several ways of looping through a dictionary. We will only look at a couple of them here\n",
        "\n",
        "# Creating our dictionary\n",
        "our_class = {\n",
        "    'Name': 'Form 4 west',\n",
        "    'Students': 46,\n",
        "    'Teacher': 'Mr. Kitam'\n",
        "}\n",
        "\n",
        "\n",
        "\n",
        "# Looping through keys only\n",
        "for x in our_class:\n",
        "  print(x)\n",
        "\n",
        "# This way of looping through a dictionary will only output the dictionary keys only. But what if we wanted to display the key value pair?\n",
        "print(\"-----------------------------------\") # separating the two ways of looping\n",
        "# To be able to achieve this, we are going to make us of a python's dictionary in-built function .items(). This function will allow us to access the key-value pair at the same time.\n",
        "\n",
        "for x,y in our_class.items():\n",
        "  print(x,\":\", y)\n",
        "\n",
        "# In the above lines of code, we are creating two temporary variables,x and y, where x is used to store the key element and y stores the value element. Then printing out the key-value pair of each dictionary elements.\n"
      ]
    },
    {
      "cell_type": "code",
      "execution_count": null,
      "metadata": {
        "colab": {
          "base_uri": "https://localhost:8080/"
        },
        "id": "rHu3-s42K9Ml",
        "outputId": "7091bc89-525e-43d9-c45f-ab7a7a2816a5"
      },
      "outputs": [
        {
          "name": "stdout",
          "output_type": "stream",
          "text": [
            "['grapes', 'oranges', 'bananas', 'lime']\n",
            "\n",
            "grapes\n",
            "oranges\n",
            "bananas\n",
            "lime\n"
          ]
        }
      ],
      "source": [
        "# We can also create and iterate over a list called fruits\n",
        "\n",
        "# Creating our python list\n",
        "fruits = [\"grapes\", \"oranges\", \"bananas\", \"lime\"]\n",
        "\n",
        "# printing the list out\n",
        "print(fruits)\n",
        "print(\n",
        "\n",
        ")\n",
        "# Use a for loop to iterate through the fruits list and print out each element in the list.\n",
        "for y in fruits:\n",
        "  print(y)"
      ]
    },
    {
      "cell_type": "code",
      "execution_count": null,
      "metadata": {
        "colab": {
          "base_uri": "https://localhost:8080/"
        },
        "id": "NHlUPHnNLOlI",
        "outputId": "c5531d62-6143-47cd-deba-bb70b6a984e1"
      },
      "outputs": [
        {
          "name": "stdout",
          "output_type": "stream",
          "text": [
            "{'bananas', 'grapes', 'lime', 'oranges'}\n",
            "\n",
            "bananas\n",
            "grapes\n",
            "lime\n",
            "oranges\n"
          ]
        }
      ],
      "source": [
        "# We can also create and iterate over a list called fruits\n",
        "\n",
        "# Creating our python list\n",
        "fruits = [\"grapes\", \"oranges\", \"bananas\", \"lime\"]\n",
        "\n",
        "# printing the list out\n",
        "print(fruits)\n",
        "print()\n",
        "# Use a for loop to iterate through the fruits list and print out each element in the list.\n",
        "for y in fruits:\n",
        "  print(y)"
      ]
    },
    {
      "cell_type": "code",
      "execution_count": null,
      "metadata": {
        "colab": {
          "base_uri": "https://localhost:8080/"
        },
        "id": "hYfcC46ILaQW",
        "outputId": "01659f81-a8ab-4c69-9c96-cf1e0d0b0caa"
      },
      "outputs": [
        {
          "name": "stdout",
          "output_type": "stream",
          "text": [
            "baba\n",
            "fever\n",
            "milk\n",
            "television\n"
          ]
        }
      ],
      "source": [
        "# Create a list with random items and iterate through it using for loop\n",
        "\n",
        "random_list = ['baba', 'fever','milk', 'television']\n",
        "\n",
        "for x in random_list:\n",
        "  print(x)\n",
        "\n"
      ]
    },
    {
      "cell_type": "code",
      "execution_count": null,
      "metadata": {
        "colab": {
          "base_uri": "https://localhost:8080/"
        },
        "id": "etIkBfPVL1WS",
        "outputId": "1e55e560-f811-4ae5-d932-c407d8b53824"
      },
      "outputs": [
        {
          "name": "stdout",
          "output_type": "stream",
          "text": [
            "Size\n",
            "Crops\n",
            "Water\n"
          ]
        }
      ],
      "source": [
        "# Given the dictionary below, use a for loop to iterate over it\n",
        "# Creating the dictionary\n",
        "farm = {\n",
        "    'Size': 146.48,\n",
        "    'Crops': 'Maize',\n",
        "    'Water': 'Irrigation'\n",
        "}\n",
        "\n",
        "for item in farm:\n",
        "  print(item)"
      ]
    },
    {
      "cell_type": "code",
      "source": [
        "cars = {'car1':{'type': 'Mazda','color':'blue','HP':2500},\n",
        "        'car2':{'type': 'Toyota','color':'black','HP':1500},\n",
        "        'car3':{'type': 'Benz','color':'white','HP':3000}}\n",
        "cars['car3']['type']"
      ],
      "metadata": {
        "colab": {
          "base_uri": "https://localhost:8080/",
          "height": 35
        },
        "id": "cNUyrLQW4mfN",
        "outputId": "c547d08a-1a38-4942-ff86-9cf6a6b6cbb7"
      },
      "execution_count": null,
      "outputs": [
        {
          "output_type": "execute_result",
          "data": {
            "text/plain": [
              "'Benz'"
            ],
            "application/vnd.google.colaboratory.intrinsic+json": {
              "type": "string"
            }
          },
          "metadata": {},
          "execution_count": 40
        }
      ]
    },
    {
      "cell_type": "code",
      "source": [],
      "metadata": {
        "id": "rTmINnEb4mZL"
      },
      "execution_count": null,
      "outputs": []
    },
    {
      "cell_type": "code",
      "source": [
        "# kamusi = {'car': 'Mazda','color':'blue','HP':2500}\n",
        "# kamusi = {'car': 'Toyota','color':'black','HP':1500}\n",
        "# kamusi = {'car': 'Benz','color':'white','HP':3000}\n",
        "#print(kamusi)\n",
        "\n",
        "cars = {'car1':{'type': 'Mazda','color':'blue','HP':2500},\n",
        "        'car2':{'type': 'Toyota','color':'black','HP':1500},\n",
        "        'car3':{'type': 'Benz','color':'white','HP':3000}}\n",
        "\n",
        "\n",
        "\n",
        "for key ,value in cars.items():\n",
        "  print(key)\n",
        "  for key_nested, value_nested in value.items():\n",
        "    print(x, 'is',y)\n",
        "  print()\n",
        "\n"
      ],
      "metadata": {
        "colab": {
          "base_uri": "https://localhost:8080/"
        },
        "id": "A58xAtsR0WV0",
        "outputId": "90588e87-6fef-4d8e-ff68-29db25fc9a84"
      },
      "execution_count": null,
      "outputs": [
        {
          "output_type": "stream",
          "name": "stdout",
          "text": [
            "car1\n",
            "type is Mazda\n",
            "color is blue\n",
            "HP is 2500\n",
            "\n",
            "car2\n",
            "type is Toyota\n",
            "color is black\n",
            "HP is 1500\n",
            "\n",
            "car3\n",
            "type is Benz\n",
            "color is white\n",
            "HP is 3000\n",
            "\n"
          ]
        }
      ]
    },
    {
      "cell_type": "code",
      "source": [
        "[]"
      ],
      "metadata": {
        "id": "QkG4VnAP2Rk8"
      },
      "execution_count": null,
      "outputs": []
    },
    {
      "cell_type": "code",
      "execution_count": null,
      "metadata": {
        "colab": {
          "base_uri": "https://localhost:8080/"
        },
        "id": "ZJ2AVzPwMRX_",
        "outputId": "5814dc4a-d538-42a9-fbd2-054ec6bc07bf"
      },
      "outputs": [
        {
          "name": "stdout",
          "output_type": "stream",
          "text": [
            "Size : 146.48\n",
            "Crops : Maize\n",
            "Water : Irrigation\n"
          ]
        }
      ],
      "source": [
        "# SInce the dictionary contains key and values, lets add other variables to \\\n",
        "# our conditional function\n",
        "\n",
        "# Lets use the dictionary above\n",
        "for x,y in farm.items():\n",
        "  print(x,':',y)"
      ]
    },
    {
      "cell_type": "code",
      "execution_count": null,
      "metadata": {
        "id": "NXcXfC0YMr1c"
      },
      "outputs": [],
      "source": [
        "# Quiz\n",
        "# Iterate over a list of dictionaries using a for loop\n",
        "#\n"
      ]
    },
    {
      "cell_type": "markdown",
      "metadata": {
        "id": "akruQMOtM1Qc"
      },
      "source": [
        "### Looping through a string"
      ]
    },
    {
      "cell_type": "code",
      "execution_count": null,
      "metadata": {
        "colab": {
          "base_uri": "https://localhost:8080/"
        },
        "id": "LY5rTDVKM6LP",
        "outputId": "f00c2de8-03d6-4f26-9e1c-aed6a1934002"
      },
      "outputs": [
        {
          "name": "stdout",
          "output_type": "stream",
          "text": [
            "K\n",
            "e\n",
            "n\n",
            "y\n",
            "a\n"
          ]
        }
      ],
      "source": [
        "# We can loop through string\n",
        "for y in \"Kenya\":\n",
        "  print(y)"
      ]
    },
    {
      "cell_type": "code",
      "execution_count": null,
      "metadata": {
        "colab": {
          "base_uri": "https://localhost:8080/"
        },
        "id": "BlAY_TkmNN-o",
        "outputId": "b22e96b7-5bfc-4e68-f8e4-f8f0a23d9a95"
      },
      "outputs": [
        {
          "name": "stdout",
          "output_type": "stream",
          "text": [
            "M\n",
            "y\n",
            " \n",
            "t\n",
            "i\n",
            "m\n",
            "e\n",
            " \n",
            "i\n",
            "s\n",
            " \n",
            "n\n",
            "o\n",
            "w\n"
          ]
        }
      ],
      "source": [
        "# Exanples\n",
        "for y in \"My time is now\":\n",
        "  print(y)"
      ]
    },
    {
      "cell_type": "markdown",
      "metadata": {
        "id": "pxQ8d3HBNV1O"
      },
      "source": [
        "### Break statement\n",
        "We can use the break statement to stop the loop before it continues"
      ]
    },
    {
      "cell_type": "code",
      "execution_count": null,
      "metadata": {
        "colab": {
          "base_uri": "https://localhost:8080/"
        },
        "id": "CzcxTFN_NxK5",
        "outputId": "045dc3b0-4323-4589-b0b3-99feac04b970"
      },
      "outputs": [
        {
          "name": "stdout",
          "output_type": "stream",
          "text": [
            "P\n",
            "r\n",
            "Loop ended\n"
          ]
        }
      ],
      "source": [
        "# We can use the break statement during the iteration of a string a shown\n",
        "#\n",
        "\n",
        "for xter in \"Prison brean\":\n",
        "    if xter == \"i\":\n",
        "        break\n",
        "    print(xter)\n",
        "print(\"Loop ended\")"
      ]
    },
    {
      "cell_type": "code",
      "execution_count": null,
      "metadata": {
        "colab": {
          "base_uri": "https://localhost:8080/"
        },
        "id": "eCBzrKtiNhlj",
        "outputId": "c5850182-64e0-489d-a4d3-d7725bd9aa15"
      },
      "outputs": [
        {
          "name": "stdout",
          "output_type": "stream",
          "text": [
            "red\n",
            "brown\n",
            "black\n",
            "green\n"
          ]
        }
      ],
      "source": [
        "# Using the fruits list we can stop the loop\n",
        "# before it continues iterating through all items by\n",
        "#\n",
        "\n",
        "colours =  ['red','brown', 'black', 'green','grey']\n",
        "\n",
        "for x in colours:\n",
        "\n",
        "  print(x)\n",
        "  if x == \"green\":\n",
        "    break"
      ]
    },
    {
      "cell_type": "code",
      "execution_count": null,
      "metadata": {
        "id": "9kWjJL2gOBTZ"
      },
      "outputs": [],
      "source": [
        "# Quiz\n",
        "# Iterating through a list of numbers\n",
        "# and breaking whenever the no. 761 is found\n",
        "#\n",
        "\n",
        "numbers  = [917,19827,827628,8762,928,761,9827,172,008]"
      ]
    },
    {
      "cell_type": "markdown",
      "metadata": {
        "id": "QIf4TBXEOUsn"
      },
      "source": [
        "### Continue statement\n",
        "\n",
        "We use continue statement to stop the current iteration of the loop,\n",
        "and continue with the next section of code"
      ]
    },
    {
      "cell_type": "code",
      "execution_count": null,
      "metadata": {
        "colab": {
          "base_uri": "https://localhost:8080/"
        },
        "id": "9kRd146GOgJg",
        "outputId": "d687b7fe-dd6c-40ea-aded-b1bd003fdf0d"
      },
      "outputs": [
        {
          "name": "stdout",
          "output_type": "stream",
          "text": [
            "dates\n",
            "passion\n"
          ]
        }
      ],
      "source": [
        "fruits = [\"dates\", \"coconut\", \"passion\"]\n",
        "\n",
        "# iterate over the list\n",
        "for x in fruits:\n",
        "  if x == \"coconut\":\n",
        "    continue\n",
        "  print(x)"
      ]
    },
    {
      "cell_type": "code",
      "execution_count": null,
      "metadata": {
        "colab": {
          "base_uri": "https://localhost:8080/"
        },
        "id": "XmFAVeuIOz7y",
        "outputId": "ea7bdbd8-b518-4d90-b740-d86e1d390900"
      },
      "outputs": [
        {
          "name": "stdout",
          "output_type": "stream",
          "text": [
            "T\n",
            "o\n",
            "m\n",
            "o\n",
            "r\n",
            "r\n",
            "o\n",
            "w\n",
            " \n",
            "s\n",
            " \n",
            "s\n",
            "u\n",
            "n\n",
            "d\n",
            "a\n",
            "y\n"
          ]
        }
      ],
      "source": [
        "# Iterating over a string\n",
        "#\n",
        "\n",
        "for thing in \"Tomorrow is sunday\":\n",
        "    if thing == \"i\":\n",
        "        continue\n",
        "    print(thing)"
      ]
    },
    {
      "cell_type": "code",
      "execution_count": null,
      "metadata": {
        "id": "70D6MlxBPC-i"
      },
      "outputs": [],
      "source": [
        "# Quiz\n",
        "# Make changes to the code below to omit the sunday and tuesday\n",
        "# while displaying the no. of days\n",
        "#\n",
        "\n",
        "day = ['monday','tuesday','wednesday','thursday','friday','saturday','sunday']\n"
      ]
    },
    {
      "cell_type": "code",
      "execution_count": null,
      "metadata": {
        "colab": {
          "base_uri": "https://localhost:8080/"
        },
        "id": "Da2vIMVTP6ZZ",
        "outputId": "71d0f332-b15b-4d94-dd0d-c100f85613ce"
      },
      "outputs": [
        {
          "name": "stdout",
          "output_type": "stream",
          "text": [
            "0\n",
            "1\n",
            "2\n",
            "3\n",
            "4\n",
            "5\n"
          ]
        }
      ],
      "source": [
        "# We iterate through a set of code a specified number of times using the range() function.\n",
        "# Let's create a sequence of numbers from 0 to 5, and print each item in the sequence:\n",
        "#\n",
        "\n",
        "for x in range(6):\n",
        "  print(x)"
      ]
    },
    {
      "cell_type": "code",
      "execution_count": null,
      "metadata": {
        "colab": {
          "base_uri": "https://localhost:8080/"
        },
        "id": "K56U2OT_P9v5",
        "outputId": "e1e84bdb-561b-4a99-a52c-f81c0b841fa9"
      },
      "outputs": [
        {
          "name": "stdout",
          "output_type": "stream",
          "text": [
            "5\n",
            "6\n",
            "7\n",
            "8\n",
            "9\n"
          ]
        }
      ],
      "source": [
        "# What happens when we have two parameters?\n",
        "#\n",
        "\n",
        "for i in range(5, 10):\n",
        "  print(i)"
      ]
    },
    {
      "cell_type": "code",
      "execution_count": null,
      "metadata": {
        "id": "Vh-gLv2CQKFZ"
      },
      "outputs": [],
      "source": [
        "# Quiz\n",
        "# Create a program that prints out the even numbers within the range of 50 - 60"
      ]
    },
    {
      "cell_type": "markdown",
      "metadata": {
        "id": "1NyiRdPGQbxN"
      },
      "source": [
        "Else"
      ]
    },
    {
      "cell_type": "code",
      "execution_count": null,
      "metadata": {
        "colab": {
          "base_uri": "https://localhost:8080/"
        },
        "id": "5IAqVFGgQRfK",
        "outputId": "c55f46ac-6e16-42b8-d287-71be0ed2b333"
      },
      "outputs": [
        {
          "name": "stdout",
          "output_type": "stream",
          "text": [
            "43\n",
            "44\n",
            "45\n",
            "46\n",
            "47\n",
            "48\n",
            "49\n",
            "Done!\n"
          ]
        }
      ],
      "source": [
        "# When the loop condition of \"for\" or \"while\" statement fails\n",
        "# then code part in \"else\" is executed as shown below\n",
        "for x in range(43,50):\n",
        "  print(x)\n",
        "else:\n",
        "  print(\"Done!\")"
      ]
    },
    {
      "cell_type": "code",
      "execution_count": null,
      "metadata": {
        "colab": {
          "base_uri": "https://localhost:8080/"
        },
        "id": "DAbpqNw5Qwy4",
        "outputId": "7ef7c551-3840-4673-fb93-ef2b9b937a75"
      },
      "outputs": [
        {
          "name": "stdout",
          "output_type": "stream",
          "text": [
            "Enter your password: secret\n",
            "You have guessed the password!\n"
          ]
        }
      ],
      "source": [
        "#  In this example the code in the else block runs only\n",
        "# if the loop completes without encountering a break statement.\n",
        "#\n",
        "\n",
        "for i in range(3):\n",
        "    password = input('Enter your password: ')\n",
        "    if password == 'secret':\n",
        "        print('You have guessed the password!')\n",
        "        break\n",
        "else:\n",
        "    print('You have made 3 incorrect password attempts')"
      ]
    },
    {
      "cell_type": "code",
      "execution_count": null,
      "metadata": {
        "id": "A0V-IZHhQ87h"
      },
      "outputs": [],
      "source": [
        "# Quiz\n",
        "# Write a program to find whether there is a word with the letter x from the list below\n",
        "#\n",
        "\n",
        "words = ['AAAAI', 'AAAAM', 'AAAAs', 'AAACE', 'AAAEE', 'aaagh', 'AAAID', 'AAAIP', 'AAAIS',\n",
        "           'AAAOC', 'xmas','YAADGHJ']\n"
      ]
    },
    {
      "cell_type": "markdown",
      "metadata": {
        "id": "-tDaXoHmRxFZ"
      },
      "source": [
        "## Nested for Loops\n",
        "A nested loop has one loop inside of another. These are typically used for working with two dimensions such as printing stars in rows and columns as shown below. When a loop is nested inside another loop, the inner loop runs many times inside the outer loop. In each iteration of the outer loop, the inner loop will be re-started. The inner loop must finish all of its iterations before the outer loop can continue to its next iteration.\n",
        "\n"
      ]
    },
    {
      "cell_type": "code",
      "execution_count": null,
      "metadata": {
        "colab": {
          "base_uri": "https://localhost:8080/"
        },
        "id": "3naVRZbKSIWP",
        "outputId": "84c43ac1-59cf-48dd-dc9b-28ef4ec33556"
      },
      "outputs": [
        {
          "name": "stdout",
          "output_type": "stream",
          "text": [
            "brown mazda\n",
            "brown chevy\n",
            "brown BMW\n",
            "brown Ford\n",
            "pink mazda\n",
            "pink chevy\n",
            "pink BMW\n",
            "pink Ford\n",
            "blue mazda\n",
            "blue chevy\n",
            "blue BMW\n",
            "blue Ford\n"
          ]
        }
      ],
      "source": [
        "# Create lists\n",
        "colours = [\"brown\", \"pink\", \"blue\"]\n",
        "cars = [\"mazda\", \"chevy\", \"BMW\",\"Ford\"]\n",
        "\n",
        "# iterate over the lists in another loop\n",
        "for x in colours:\n",
        "  for y in cars:\n",
        "    print(x, y)"
      ]
    },
    {
      "cell_type": "code",
      "execution_count": null,
      "metadata": {
        "colab": {
          "base_uri": "https://localhost:8080/"
        },
        "id": "j3R42k6zSkgb",
        "outputId": "6c0fd881-3891-494b-f693-c28707650c06"
      },
      "outputs": [
        {
          "name": "stdout",
          "output_type": "stream",
          "text": [
            "Muriga\n",
            "19\n",
            "Tokodi\n",
            "15\n",
            "Tyrell\n",
            "29\n"
          ]
        }
      ],
      "source": [
        "# Iterating over multi dimension list i.e. lists in a list\n",
        "#\n",
        "\n",
        "# Creating a persons list\n",
        "persons = [['Muriga', 19], ['Tokodi', 15], ['Tyrell', 29]]\n",
        "\n",
        "for person in persons:\n",
        "\n",
        "  for value in person:\n",
        "    print(value)"
      ]
    },
    {
      "cell_type": "code",
      "execution_count": null,
      "metadata": {
        "id": "qgKCFCTPSy_p"
      },
      "outputs": [],
      "source": [
        "# Iterate through the list of integers. In the outer loop, iterate through the numbers_list\n",
        "# and iterate through strings_list in the inner loop.\n",
        "# printing out\n",
        "# 9 z 8 y 7 x 6 w"
      ]
    }
  ],
  "metadata": {
    "colab": {
      "provenance": [],
      "include_colab_link": true
    },
    "kernelspec": {
      "display_name": "Python 3",
      "name": "python3"
    },
    "language_info": {
      "name": "python"
    }
  },
  "nbformat": 4,
  "nbformat_minor": 0
}