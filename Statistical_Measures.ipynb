{
  "nbformat": 4,
  "nbformat_minor": 0,
  "metadata": {
    "colab": {
      "provenance": [],
      "include_colab_link": true
    },
    "kernelspec": {
      "name": "python3",
      "display_name": "Python 3"
    },
    "language_info": {
      "name": "python"
    }
  },
  "cells": [
    {
      "cell_type": "markdown",
      "metadata": {
        "id": "view-in-github",
        "colab_type": "text"
      },
      "source": [
        "<a href=\"https://colab.research.google.com/github/timothy-87/course_material/blob/main/Statistical_Measures.ipynb\" target=\"_parent\"><img src=\"https://colab.research.google.com/assets/colab-badge.svg\" alt=\"Open In Colab\"/></a>"
      ]
    },
    {
      "cell_type": "markdown",
      "source": [
        "## Measures of Central Tendency\n",
        "- Mean\n",
        "- Median\n",
        "- Mode\n",
        "\n",
        "\n",
        "**Definition:** A single value that describes the center point of a dataset.\n",
        "**Key Measures:** Mean, Median, Mode\n",
        "**Real-Life Example:** \"What’s the average income of people in a city? How spread is the income distribution?\"\n",
        "\n",
        "### Calculation\n",
        "**Mean:**\n",
        "\n",
        "Dataset: Exam scores = [60, 70, 80, 90, 100]\n",
        "\n",
        "**Median:**\n",
        "\n",
        "[150, 200, 250, 300, 500]\n",
        "\n",
        "[150, 200, 250, 300]\n",
        "\n",
        "**Mode:**\n",
        "\n",
        "Dataset: Shoe sizes = [6, 7, 7, 8, 9, 9, 9, 10]\n",
        "\n",
        "Mode = 9 (most frequent value)\n"
      ],
      "metadata": {
        "id": "zPLGeCMFq5R3"
      }
    },
    {
      "cell_type": "code",
      "source": [
        "# Import necessary libraries\n",
        "import numpy as np\n",
        "import matplotlib.pyplot as plt"
      ],
      "metadata": {
        "id": "btOn3yqvrlvY"
      },
      "execution_count": null,
      "outputs": []
    },
    {
      "cell_type": "code",
      "execution_count": null,
      "metadata": {
        "id": "_FYboyzLmZ_8"
      },
      "outputs": [],
      "source": [
        "# Mean\n",
        "age = [23,43,23,56,74,32,68,98,45,32]"
      ]
    },
    {
      "cell_type": "code",
      "source": [
        "sum_age = 23 + 43 + 23+ 56+ 74 + 32 + 68 + 98 + 45 + 32\n",
        "sum_age"
      ],
      "metadata": {
        "colab": {
          "base_uri": "https://localhost:8080/"
        },
        "id": "0ZLAS7oMrLok",
        "outputId": "11a1941f-1208-440a-90d4-952967b76007"
      },
      "execution_count": null,
      "outputs": [
        {
          "output_type": "execute_result",
          "data": {
            "text/plain": [
              "494"
            ]
          },
          "metadata": {},
          "execution_count": 2
        }
      ]
    },
    {
      "cell_type": "code",
      "source": [
        "mean_sum = sum_age / 10\n",
        "mean_sum"
      ],
      "metadata": {
        "colab": {
          "base_uri": "https://localhost:8080/"
        },
        "id": "ZI5dNhSkrZBs",
        "outputId": "acacee9b-8a39-4349-a884-cfa298805db4"
      },
      "execution_count": null,
      "outputs": [
        {
          "output_type": "execute_result",
          "data": {
            "text/plain": [
              "49.4"
            ]
          },
          "metadata": {},
          "execution_count": 3
        }
      ]
    },
    {
      "cell_type": "code",
      "source": [
        "sum_age / len(age)"
      ],
      "metadata": {
        "colab": {
          "base_uri": "https://localhost:8080/"
        },
        "id": "aFaJlQU0rf_N",
        "outputId": "8139b4d7-be18-4980-d7f9-6e67c5d90c95"
      },
      "execution_count": null,
      "outputs": [
        {
          "output_type": "execute_result",
          "data": {
            "text/plain": [
              "49.4"
            ]
          },
          "metadata": {},
          "execution_count": 4
        }
      ]
    },
    {
      "cell_type": "code",
      "source": [
        "mean_age = np.mean(age)\n",
        "mean_age\n"
      ],
      "metadata": {
        "colab": {
          "base_uri": "https://localhost:8080/"
        },
        "id": "hDrDIAvNrihM",
        "outputId": "e351a9a8-7b6d-49c5-dced-991c73e88e08"
      },
      "execution_count": null,
      "outputs": [
        {
          "output_type": "execute_result",
          "data": {
            "text/plain": [
              "np.float64(49.4)"
            ]
          },
          "metadata": {},
          "execution_count": 8
        }
      ]
    },
    {
      "cell_type": "code",
      "source": [
        "age"
      ],
      "metadata": {
        "colab": {
          "base_uri": "https://localhost:8080/"
        },
        "id": "BXeuEPSFr0r9",
        "outputId": "49771e3d-c9cc-40f4-c9ac-4f714e530569"
      },
      "execution_count": null,
      "outputs": [
        {
          "output_type": "execute_result",
          "data": {
            "text/plain": [
              "[23, 43, 23, 56, 74, 32, 68, 98, 45, 32]"
            ]
          },
          "metadata": {},
          "execution_count": 9
        }
      ]
    },
    {
      "cell_type": "code",
      "source": [
        "np.median(age)"
      ],
      "metadata": {
        "colab": {
          "base_uri": "https://localhost:8080/"
        },
        "id": "Dz9B6PS-ruOv",
        "outputId": "4153de20-a76e-4f20-f1d9-bf4dd76a85d1"
      },
      "execution_count": null,
      "outputs": [
        {
          "output_type": "execute_result",
          "data": {
            "text/plain": [
              "np.float64(44.0)"
            ]
          },
          "metadata": {},
          "execution_count": 10
        }
      ]
    },
    {
      "cell_type": "code",
      "source": [
        "# Calculate the mode\n",
        "# Using numpy is complicated\n",
        "\n",
        "unique_elements, counts = np.unique(age, return_counts=True)\n",
        "mode = unique_elements[np.argmax(counts)]\n",
        "print(f\"Mode: {mode}\")\n"
      ],
      "metadata": {
        "colab": {
          "base_uri": "https://localhost:8080/"
        },
        "id": "qCL-zJl6tIZ_",
        "outputId": "9f938aa1-ff19-43bc-dd78-131173424cb1"
      },
      "execution_count": null,
      "outputs": [
        {
          "output_type": "stream",
          "name": "stdout",
          "text": [
            "Mode: 32\n"
          ]
        }
      ]
    },
    {
      "cell_type": "code",
      "source": [
        "# We can use SCIPY function to find the mode\n",
        "from scipy import stats\n",
        "age_mode = stats.mode(age)\n",
        "age_mode # thisgive you the mode and the count\n",
        "\n",
        "# To get only the mode\n",
        "age_mode.mode # or age_mode[0]\n"
      ],
      "metadata": {
        "colab": {
          "base_uri": "https://localhost:8080/"
        },
        "id": "uinEofkTF7A8",
        "outputId": "3fb3b527-36e8-42a6-f391-e6293afb8bc1"
      },
      "execution_count": null,
      "outputs": [
        {
          "output_type": "execute_result",
          "data": {
            "text/plain": [
              "np.int64(32)"
            ]
          },
          "metadata": {},
          "execution_count": 119
        }
      ]
    },
    {
      "cell_type": "markdown",
      "source": [
        "## Histograms\n",
        "More content on this --- check Canvas"
      ],
      "metadata": {
        "id": "tq5TjYc-tfCi"
      }
    },
    {
      "cell_type": "code",
      "source": [
        "age"
      ],
      "metadata": {
        "colab": {
          "base_uri": "https://localhost:8080/"
        },
        "id": "8L3L9G9dttSL",
        "outputId": "0c6eef21-f602-4c25-b79e-835abcb89e53"
      },
      "execution_count": null,
      "outputs": [
        {
          "output_type": "execute_result",
          "data": {
            "text/plain": [
              "[23, 43, 23, 56, 74, 32, 68, 98, 45, 32]"
            ]
          },
          "metadata": {},
          "execution_count": 12
        }
      ]
    },
    {
      "cell_type": "code",
      "source": [
        "age = [23,43,23,56,74,32,68,98,45,32]"
      ],
      "metadata": {
        "id": "f12PjpqyxY99"
      },
      "execution_count": null,
      "outputs": []
    },
    {
      "cell_type": "code",
      "source": [
        "plt.hist(age, edgecolor=\"orange\")"
      ],
      "metadata": {
        "colab": {
          "base_uri": "https://localhost:8080/",
          "height": 484
        },
        "id": "m9HYhp9syMzy",
        "outputId": "eb6d169e-033b-495b-b45b-cf9c742a2cad"
      },
      "execution_count": null,
      "outputs": [
        {
          "output_type": "execute_result",
          "data": {
            "text/plain": [
              "(array([2., 2., 2., 0., 1., 0., 2., 0., 0., 1.]),\n",
              " array([23. , 30.5, 38. , 45.5, 53. , 60.5, 68. , 75.5, 83. , 90.5, 98. ]),\n",
              " <BarContainer object of 10 artists>)"
            ]
          },
          "metadata": {},
          "execution_count": 47
        },
        {
          "output_type": "display_data",
          "data": {
            "text/plain": [
              "<Figure size 640x480 with 1 Axes>"
            ],
            "image/png": "[encoded data removed]"
          },
          "metadata": {}
        }
      ]
    },
    {
      "cell_type": "code",
      "source": [
        "import matplotlib.pyplot as plt\n",
        "# Plot histogram\n",
        "bins = 5\n",
        "plt.hist(age, bins, edgecolor=\"black\", color=\"#00F8AD\")\n",
        "plt.title(\"The Age plot\")\n",
        "plt.xlabel(\"Age values\")\n",
        "plt.ylabel(\"Age count\")\n",
        "plt.show()\n"
      ],
      "metadata": {
        "colab": {
          "base_uri": "https://localhost:8080/",
          "height": 472
        },
        "id": "fjLo03Pity_g",
        "outputId": "f4aab025-1e83-4b54-dc86-6888b30c0a7f"
      },
      "execution_count": null,
      "outputs": [
        {
          "output_type": "display_data",
          "data": {
            "text/plain": [
              "<Figure size 640x480 with 1 Axes>"
            ],
            "image/png": "[encoded data removed]"
          },
          "metadata": {}
        }
      ]
    },
    {
      "cell_type": "code",
      "source": [
        "age.pop()\n",
        "age"
      ],
      "metadata": {
        "colab": {
          "base_uri": "https://localhost:8080/"
        },
        "id": "ty_4UN93uFXj",
        "outputId": "6ea72eb3-2a90-48b4-b120-6d729ee4f778"
      },
      "execution_count": null,
      "outputs": [
        {
          "output_type": "execute_result",
          "data": {
            "text/plain": [
              "[23, 43, 23, 56, 74, 32, 68, 98, 45, 32, 120]"
            ]
          },
          "metadata": {},
          "execution_count": 35
        }
      ]
    },
    {
      "cell_type": "code",
      "source": [
        "age.append(500)"
      ],
      "metadata": {
        "id": "gmqz0Ze1weAy"
      },
      "execution_count": null,
      "outputs": []
    },
    {
      "cell_type": "code",
      "source": [
        "np.mean(age)"
      ],
      "metadata": {
        "colab": {
          "base_uri": "https://localhost:8080/"
        },
        "id": "gQY5GgM0wlYI",
        "outputId": "e107e33d-6bb6-4488-9f74-03e7d2b82960"
      },
      "execution_count": null,
      "outputs": [
        {
          "output_type": "execute_result",
          "data": {
            "text/plain": [
              "np.float64(92.83333333333333)"
            ]
          },
          "metadata": {},
          "execution_count": 38
        }
      ]
    },
    {
      "cell_type": "code",
      "source": [
        "np.median(age)"
      ],
      "metadata": {
        "colab": {
          "base_uri": "https://localhost:8080/"
        },
        "id": "18a9oX2Mw4RH",
        "outputId": "bcfa21c9-f0a5-487a-ba51-0c74bc560638"
      },
      "execution_count": null,
      "outputs": [
        {
          "output_type": "execute_result",
          "data": {
            "text/plain": [
              "np.float64(50.5)"
            ]
          },
          "metadata": {},
          "execution_count": 39
        }
      ]
    },
    {
      "cell_type": "markdown",
      "source": [
        "## Measures of dispersion\n",
        "\n",
        "**Definition:** Describes the spread of data points around a central value.\n",
        "\n",
        "**Key Measures:** Range, Variance, Standard Deviation, Interquartile Range (IQR)\n",
        "\n",
        "**Real-Life Example:** \"How consistent are the exam scores of students?\"\n",
        "\n",
        "- Range=Max Value−Min Value\n",
        "- Variance =  sum(X-mean)**2 /n\n",
        "- Standard Deviation = sqrt(Varience)\n",
        "- Interquartile Range (IQR)\n",
        "\n",
        "IQR=Q3−Q1\n"
      ],
      "metadata": {
        "id": "aRDIAWsE4H3S"
      }
    },
    {
      "cell_type": "code",
      "source": [
        "age"
      ],
      "metadata": {
        "colab": {
          "base_uri": "https://localhost:8080/"
        },
        "id": "1uTfaqlew7CA",
        "outputId": "5d28b116-2e99-433a-ed6e-16d13cbe2a1f"
      },
      "execution_count": null,
      "outputs": [
        {
          "output_type": "execute_result",
          "data": {
            "text/plain": [
              "array([23, 43, 23, 56, 74, 32, 68, 98, 45, 32])"
            ]
          },
          "metadata": {},
          "execution_count": 14
        }
      ]
    },
    {
      "cell_type": "code",
      "source": [
        "# range\n",
        "np.max(age) - np.min(age)"
      ],
      "metadata": {
        "colab": {
          "base_uri": "https://localhost:8080/"
        },
        "id": "M6IqbZkp4MBy",
        "outputId": "af131154-eea5-46f5-df12-0c189416ae51"
      },
      "execution_count": null,
      "outputs": [
        {
          "output_type": "execute_result",
          "data": {
            "text/plain": [
              "np.int64(75)"
            ]
          },
          "metadata": {},
          "execution_count": 50
        }
      ]
    },
    {
      "cell_type": "code",
      "source": [
        "#Variance\n",
        "np.var(age)"
      ],
      "metadata": {
        "colab": {
          "base_uri": "https://localhost:8080/"
        },
        "id": "FnmSDnK94NpN",
        "outputId": "97ad11f8-2129-4117-f24e-deb252b8ccb6"
      },
      "execution_count": null,
      "outputs": [
        {
          "output_type": "execute_result",
          "data": {
            "text/plain": [
              "np.float64(541.64)"
            ]
          },
          "metadata": {},
          "execution_count": 51
        }
      ]
    },
    {
      "cell_type": "code",
      "source": [
        "# Standard deviation\n",
        "np.std(age)"
      ],
      "metadata": {
        "colab": {
          "base_uri": "https://localhost:8080/"
        },
        "id": "jx_Q8gCh4Yxw",
        "outputId": "c4fdbe3f-2610-4c44-b8e4-a4110072771f"
      },
      "execution_count": null,
      "outputs": [
        {
          "output_type": "execute_result",
          "data": {
            "text/plain": [
              "np.float64(23.273160507331188)"
            ]
          },
          "metadata": {},
          "execution_count": 52
        }
      ]
    },
    {
      "cell_type": "code",
      "source": [
        "# Interquantile percentile\n",
        "# 1. Sort\n",
        "age_sort = sorted(age)\n",
        "# age_sort\n",
        "\n",
        "# Distance of last and first\n",
        "age_distance = len(age) - 1\n",
        "# age_distance\n",
        "\n",
        "# percentiles\n",
        "pos_25 =  0.25 * age_distance\n",
        "pos_25\n",
        "\n",
        "vl_25 = age_sort[int(pos_25)]\n",
        "\n",
        "pos_75 = 0.75 * age_distance\n",
        "pos_75\n",
        "\n",
        "vl_75 = age_sort[int(pos_75)]\n",
        "\n",
        "\n",
        "# IQR\n",
        "iqr = vl_75 - vl_25\n",
        "iqr\n",
        "\n"
      ],
      "metadata": {
        "colab": {
          "base_uri": "https://localhost:8080/"
        },
        "id": "t5fZdn3i4m_L",
        "outputId": "b222814c-e990-4c30-8b03-81a64af0a4dc"
      },
      "execution_count": null,
      "outputs": [
        {
          "output_type": "execute_result",
          "data": {
            "text/plain": [
              "24"
            ]
          },
          "metadata": {},
          "execution_count": 78
        }
      ]
    },
    {
      "cell_type": "code",
      "source": [
        "age_sort"
      ],
      "metadata": {
        "colab": {
          "base_uri": "https://localhost:8080/"
        },
        "id": "Do9HK1OB410S",
        "outputId": "17cd52c4-2329-42de-ffc7-a72558003b71"
      },
      "execution_count": null,
      "outputs": [
        {
          "output_type": "execute_result",
          "data": {
            "text/plain": [
              "[23, 23, 32, 32, 43, 45, 56, 68, 74, 98]"
            ]
          },
          "metadata": {},
          "execution_count": 68
        }
      ]
    },
    {
      "cell_type": "code",
      "source": [
        "vl_25"
      ],
      "metadata": {
        "colab": {
          "base_uri": "https://localhost:8080/"
        },
        "id": "KumQr2zZ7mIz",
        "outputId": "95bc8d9d-e975-4cf8-a41c-9ad0544c3f18"
      },
      "execution_count": null,
      "outputs": [
        {
          "output_type": "execute_result",
          "data": {
            "text/plain": [
              "32"
            ]
          },
          "metadata": {},
          "execution_count": 75
        }
      ]
    },
    {
      "cell_type": "code",
      "source": [
        "vl_75"
      ],
      "metadata": {
        "colab": {
          "base_uri": "https://localhost:8080/"
        },
        "id": "aj21lF2U7pUS",
        "outputId": "0ccf1453-b75b-4ad2-b143-95e9676502e2"
      },
      "execution_count": null,
      "outputs": [
        {
          "output_type": "execute_result",
          "data": {
            "text/plain": [
              "56"
            ]
          },
          "metadata": {},
          "execution_count": 79
        }
      ]
    },
    {
      "cell_type": "code",
      "source": [
        "np.percentile(age, 75) - np.percentile(age, 25)"
      ],
      "metadata": {
        "colab": {
          "base_uri": "https://localhost:8080/"
        },
        "id": "pVd1OA_d5ZAw",
        "outputId": "7d118368-fe09-4d70-c429-592f715a477d"
      },
      "execution_count": null,
      "outputs": [
        {
          "output_type": "execute_result",
          "data": {
            "text/plain": [
              "np.float64(33.0)"
            ]
          },
          "metadata": {},
          "execution_count": 81
        }
      ]
    },
    {
      "cell_type": "code",
      "source": [
        "np.median(age)"
      ],
      "metadata": {
        "colab": {
          "base_uri": "https://localhost:8080/"
        },
        "id": "XZUxYRs78xoZ",
        "outputId": "17913ad3-5ea3-492a-c91a-566581859919"
      },
      "execution_count": null,
      "outputs": [
        {
          "output_type": "execute_result",
          "data": {
            "text/plain": [
              "np.float64(44.0)"
            ]
          },
          "metadata": {},
          "execution_count": 83
        }
      ]
    },
    {
      "cell_type": "code",
      "source": [
        "age.append(200)"
      ],
      "metadata": {
        "id": "L-bfUNab89kS"
      },
      "execution_count": null,
      "outputs": []
    },
    {
      "cell_type": "code",
      "source": [
        "age"
      ],
      "metadata": {
        "colab": {
          "base_uri": "https://localhost:8080/"
        },
        "id": "sGPDfsca8__4",
        "outputId": "46f401ad-b4fb-4e41-d9d5-72cb11fb8fd8"
      },
      "execution_count": null,
      "outputs": [
        {
          "output_type": "execute_result",
          "data": {
            "text/plain": [
              "[23, 43, 23, 56, 74, 32, 68, 98, 45, 32, 500, 200]"
            ]
          },
          "metadata": {},
          "execution_count": 90
        }
      ]
    },
    {
      "cell_type": "code",
      "source": [
        "# Ploting a box plot\n",
        "plt.style.use(\"ggplot\")\n",
        "plt.boxplot(age)\n",
        "\n",
        "plt.show()"
      ],
      "metadata": {
        "colab": {
          "base_uri": "https://localhost:8080/",
          "height": 430
        },
        "id": "uVpEb4KB7j-u",
        "outputId": "1f393028-507c-46b4-dbcb-2bde0e2c395d"
      },
      "execution_count": null,
      "outputs": [
        {
          "output_type": "display_data",
          "data": {
            "text/plain": [
              "<Figure size 640x480 with 1 Axes>"
            ],
            "image/png": "[encoded data removed]"
          },
          "metadata": {}
        }
      ]
    },
    {
      "cell_type": "code",
      "source": [
        "# eleminate outliers\n",
        "# Ploting a box plot\n",
        "plt.style.use(\"ggplot\")\n",
        "plt.boxplot(age, showfliers=False)\n",
        "\n",
        "plt.show()"
      ],
      "metadata": {
        "colab": {
          "base_uri": "https://localhost:8080/",
          "height": 430
        },
        "id": "n4bUK0N88lFt",
        "outputId": "daf911f3-96b0-488a-f8f1-4d373478ce84"
      },
      "execution_count": null,
      "outputs": [
        {
          "output_type": "display_data",
          "data": {
            "text/plain": [
              "<Figure size 640x480 with 1 Axes>"
            ],
            "image/png": "[encoded data removed]"
          },
          "metadata": {}
        }
      ]
    },
    {
      "cell_type": "code",
      "source": [
        "age.pop()"
      ],
      "metadata": {
        "colab": {
          "base_uri": "https://localhost:8080/"
        },
        "id": "Ui9Uz_9U9Pbe",
        "outputId": "2537cc88-9172-4f7f-e6c1-dc0aaefb9b99"
      },
      "execution_count": null,
      "outputs": [
        {
          "output_type": "execute_result",
          "data": {
            "text/plain": [
              "200"
            ]
          },
          "metadata": {},
          "execution_count": 95
        }
      ]
    },
    {
      "cell_type": "code",
      "source": [
        "height = [177.8, 157.48, 175.26, 175.26, 157.48, 167.64, 154.94, 162.56, 175.26, 172.7]\n",
        "len(height)"
      ],
      "metadata": {
        "colab": {
          "base_uri": "https://localhost:8080/"
        },
        "id": "RyYryPze_8W-",
        "outputId": "4e1b9423-a5c0-4170-8b47-edac8c7915fb"
      },
      "execution_count": null,
      "outputs": [
        {
          "output_type": "execute_result",
          "data": {
            "text/plain": [
              "10"
            ]
          },
          "metadata": {},
          "execution_count": 15
        }
      ]
    },
    {
      "cell_type": "code",
      "source": [
        "len(age)"
      ],
      "metadata": {
        "colab": {
          "base_uri": "https://localhost:8080/"
        },
        "id": "opRrx1Td__1z",
        "outputId": "5a7246ca-70aa-4465-86ce-2ce426bf6fd4"
      },
      "execution_count": null,
      "outputs": [
        {
          "output_type": "execute_result",
          "data": {
            "text/plain": [
              "10"
            ]
          },
          "metadata": {},
          "execution_count": 102
        }
      ]
    },
    {
      "cell_type": "code",
      "source": [
        "age"
      ],
      "metadata": {
        "colab": {
          "base_uri": "https://localhost:8080/",
          "height": 145
        },
        "id": "v2ug60FxATix",
        "outputId": "c80f2b3f-b743-4874-db6c-0c1dbc87a664"
      },
      "execution_count": null,
      "outputs": [
        {
          "output_type": "error",
          "ename": "NameError",
          "evalue": "name 'age' is not defined",
          "traceback": [
            "\u001b[0;31m---------------------------------------------------------------------------\u001b[0m",
            "\u001b[0;31mNameError\u001b[0m                                 Traceback (most recent call last)",
            "\u001b[0;32m/tmp/ipython-input-3-1733084327.py\u001b[0m in \u001b[0;36m<cell line: 0>\u001b[0;34m()\u001b[0m\n\u001b[0;32m----> 1\u001b[0;31m \u001b[0mage\u001b[0m\u001b[0;34m\u001b[0m\u001b[0;34m\u001b[0m\u001b[0m\n\u001b[0m",
            "\u001b[0;31mNameError\u001b[0m: name 'age' is not defined"
          ]
        }
      ]
    },
    {
      "cell_type": "code",
      "source": [
        "height"
      ],
      "metadata": {
        "colab": {
          "base_uri": "https://localhost:8080/"
        },
        "id": "GZhurS7WAU7R",
        "outputId": "5edb1b0c-937c-4ea8-868e-6c30572bb220"
      },
      "execution_count": null,
      "outputs": [
        {
          "output_type": "execute_result",
          "data": {
            "text/plain": [
              "[177.8, 157.48, 175.26, 175.26, 157.48, 167.64, 154.94, 162.56, 175.26, 172.7]"
            ]
          },
          "metadata": {},
          "execution_count": 104
        }
      ]
    },
    {
      "cell_type": "markdown",
      "source": [
        "## Covariance\n",
        "- **Definition:** Covariance measures the **_direction of the linear relationship between two variables_**. If the covariance is positive, the two variables tend to increase together. If it's negative, one tends to increase when the other decreases.\n",
        "\n",
        "- **Example:** If you're studying the relationship between temperature and ice cream sales, a positive covariance would indicate that sales increase as temperatures rise.\n",
        "\n",
        "\n",
        "## Correlation\n",
        "- **Definition:** Correlation quantifies the **_strength and direction of the linear relationship_** between two variables. Unlike covariance, correlation is standardized and always ranges from -1 to 1.\n",
        "\n",
        "- **Example:** A high correlation between height and weight would suggest that taller people tend to weigh more\n",
        "\n",
        "**NOTE: CORRELATION IS NOT CAUSATION**\n",
        "\n",
        "\n",
        "## Outliers\n",
        "- **Definition:** Outliers are data points that are significantly different from other observations in the dataset. They may be unusually high or low and can arise due to variability in the data or errors.\n",
        "\n"
      ],
      "metadata": {
        "id": "HBoWumcPEtPE"
      }
    },
    {
      "cell_type": "code",
      "source": [
        "age = np.array(age)\n",
        "height = np.array(height)"
      ],
      "metadata": {
        "id": "5LVEBg6g2OQz"
      },
      "execution_count": null,
      "outputs": []
    },
    {
      "cell_type": "code",
      "source": [
        "#covariance\n",
        "cov = np.cov(age, height)\n",
        "cov"
      ],
      "metadata": {
        "colab": {
          "base_uri": "https://localhost:8080/"
        },
        "id": "g3OOS1BaAV_6",
        "outputId": "cfe29b4b-6c64-415b-93b8-043f2fbbd884"
      },
      "execution_count": null,
      "outputs": [
        {
          "output_type": "execute_result",
          "data": {
            "text/plain": [
              "array([[ 601.82222222, -134.29911111],\n",
              "       [-134.29911111,   77.39666222]])"
            ]
          },
          "metadata": {},
          "execution_count": 13
        }
      ]
    },
    {
      "cell_type": "code",
      "source": [
        "corr = np.corrcoef(age, height)\n",
        "corr[0, 1]"
      ],
      "metadata": {
        "colab": {
          "base_uri": "https://localhost:8080/"
        },
        "id": "cGD0IarFAaj6",
        "outputId": "263836a2-265e-48b1-eaf7-647c83f41592"
      },
      "execution_count": null,
      "outputs": [
        {
          "output_type": "execute_result",
          "data": {
            "text/plain": [
              "np.float64(0.155465639812036)"
            ]
          },
          "metadata": {},
          "execution_count": 108
        }
      ]
    },
    {
      "cell_type": "code",
      "source": [
        "# Plot scatter\n",
        "plt.scatter(age, height)\n",
        "plt.show()"
      ],
      "metadata": {
        "colab": {
          "base_uri": "https://localhost:8080/",
          "height": 430
        },
        "id": "3U96dz3QA6mb",
        "outputId": "eb6315f1-0a04-48af-b49d-66dd81943777"
      },
      "execution_count": null,
      "outputs": [
        {
          "output_type": "display_data",
          "data": {
            "text/plain": [
              "<Figure size 640x480 with 1 Axes>"
            ],
            "image/png": "[encoded data removed]"
          },
          "metadata": {}
        }
      ]
    },
    {
      "cell_type": "markdown",
      "source": [
        "### Dont worry about the code below just understand the visualization on the correlation"
      ],
      "metadata": {
        "id": "DrJKk6INGnOs"
      }
    },
    {
      "cell_type": "code",
      "source": [
        "np.random.seed(0)\n",
        "x_pos = np.arange(10, 60, 5)\n",
        "y_pos = x_pos + np.random.normal(0, 5, len(x_pos))\n",
        "\n",
        "# Best-fit line\n",
        "m_pos, b_pos = np.polyfit(x_pos, y_pos, 1)\n",
        "corr_pos = np.corrcoef(x_pos, y_pos)[0, 1]\n",
        "\n",
        "plt.scatter(x_pos, y_pos, color='green', label='Data')\n",
        "plt.plot(x_pos, m_pos*x_pos + b_pos, color='black', linestyle='--', label='Best-fit line')\n",
        "plt.title(f\"Positive Correlation (r = {corr_pos:.2f})\")\n",
        "plt.xlabel(\"X\")\n",
        "plt.ylabel(\"Y\")\n",
        "plt.legend()\n",
        "plt.grid(True)\n",
        "plt.show()\n"
      ],
      "metadata": {
        "colab": {
          "base_uri": "https://localhost:8080/",
          "height": 477
        },
        "id": "_70I8EuiBIuG",
        "outputId": "90b31a14-e120-4d15-cacf-e000c8c6c022"
      },
      "execution_count": null,
      "outputs": [
        {
          "output_type": "display_data",
          "data": {
            "text/plain": [
              "<Figure size 640x480 with 1 Axes>"
            ],
            "image/png": "[encoded data removed]"
          },
          "metadata": {}
        }
      ]
    },
    {
      "cell_type": "code",
      "source": [
        "x_neg = np.arange(10, 60, 5)\n",
        "y_neg = 100 - x_neg + np.random.normal(0, 5, len(x_neg))\n",
        "\n",
        "m_neg, b_neg = np.polyfit(x_neg, y_neg, 1)\n",
        "corr_neg = np.corrcoef(x_neg, y_neg)[0, 1]\n",
        "\n",
        "plt.scatter(x_neg, y_neg, color='red', label='Data')\n",
        "plt.plot(x_neg, m_neg*x_neg + b_neg, color='black', linestyle='--', label='Best-fit line')\n",
        "plt.title(f\"Negative Correlation (r = {corr_neg:.2f})\")\n",
        "plt.xlabel(\"X\")\n",
        "plt.ylabel(\"Y\")\n",
        "plt.legend()\n",
        "plt.grid(True)\n",
        "plt.show()\n"
      ],
      "metadata": {
        "colab": {
          "base_uri": "https://localhost:8080/",
          "height": 477
        },
        "id": "qQFGc9BwBei6",
        "outputId": "734ea0d5-978b-4f4f-9def-f4b7b6c861b8"
      },
      "execution_count": null,
      "outputs": [
        {
          "output_type": "display_data",
          "data": {
            "text/plain": [
              "<Figure size 640x480 with 1 Axes>"
            ],
            "image/png": "[encoded data removed]"
          },
          "metadata": {}
        }
      ]
    },
    {
      "cell_type": "code",
      "source": [
        "x_none = np.arange(10, 60, 5)\n",
        "y_none = np.random.uniform(30, 70, len(x_none))\n",
        "\n",
        "m_none, b_none = np.polyfit(x_none, y_none, 1)\n",
        "corr_none = np.corrcoef(x_none, y_none)[0, 1]\n",
        "\n",
        "plt.scatter(x_none, y_none, color='blue', label='Data')\n",
        "plt.plot(x_none, m_none*x_none + b_none, color='black', linestyle='--', label='Best-fit line')\n",
        "plt.title(f\"No Correlation (r = {corr_none:.2f})\")\n",
        "plt.xlabel(\"X\")\n",
        "plt.ylabel(\"Y\")\n",
        "plt.legend()\n",
        "plt.grid(True)\n",
        "plt.show()\n"
      ],
      "metadata": {
        "colab": {
          "base_uri": "https://localhost:8080/",
          "height": 477
        },
        "id": "d6XbcADPBvmz",
        "outputId": "259cfb5f-7862-4e1f-902b-d5c1044edb8a"
      },
      "execution_count": null,
      "outputs": [
        {
          "output_type": "display_data",
          "data": {
            "text/plain": [
              "<Figure size 640x480 with 1 Axes>"
            ],
            "image/png": "[encoded data removed]"
          },
          "metadata": {}
        }
      ]
    },
    {
      "cell_type": "code",
      "source": [],
      "metadata": {
        "id": "r4Y1j8MkB11N"
      },
      "execution_count": null,
      "outputs": []
    }
  ]
}